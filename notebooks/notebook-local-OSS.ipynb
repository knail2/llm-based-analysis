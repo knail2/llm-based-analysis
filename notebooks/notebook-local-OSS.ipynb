{
 "cells": [
  {
   "cell_type": "markdown",
   "id": "ebd9e174",
   "metadata": {},
   "source": [
    "## Notebook template with working OSS LLMs\n",
    "\n",
    "- **Author:** Omer Ansari\n",
    "- **Init Date:** 7/21/24\n",
    "    \n",
    "Goal: \n",
    "A jupyter notebook which is set up to work with local opensource LLMs.\n",
    "\n",
    "Pre-requisites:\n",
    "- Install [LM Studio](https://lmstudio.ai/)\n",
    "- Download an LLM from Huggingface through LMStudio [link](https://lmstudio.ai/blog/llama-3) *(we will use llama3 8B here)*\n",
    "- Enable the API Server for this LLM in LMStudio [link](https://lmstudio.ai/docs/local-server)\n",
    "\n",
    "\n",
    "Documentation [doc](https://knail1.github.io/)\n"
   ]
  },
  {
   "cell_type": "markdown",
   "id": "16c41af2",
   "metadata": {},
   "source": [
    "## Connect to the local LLM API and run commands.."
   ]
  },
  {
   "cell_type": "code",
   "execution_count": 6,
   "id": "c816bbbe",
   "metadata": {
    "ExecuteTime": {
     "end_time": "2024-07-01T15:27:47.452734Z",
     "start_time": "2024-07-01T15:27:47.446743Z"
    }
   },
   "outputs": [],
   "source": [
    "# Wrong and non working code!\n",
    "\n",
    "# First we pull out the credentials from a local file that is in .gitignore ;)\n",
    "\n",
    "# File path to the credentials file\n",
    "#creds_file_path = '../.tableau_creds'\n",
    "#creds_file_path = '../.tableau_token'\n",
    "#creds_file_path = '../.tableau_token_sandbox'\n",
    "creds_file_path = '../.tableau_token_0701'\n",
    "\n",
    "try:\n",
    "    with open(creds_file_path, 'r') as file:\n",
    "        lines = file.readlines()\n",
    "        \n",
    "        # Assigning username and password from the file lines\n",
    "        token_name = lines[0].strip()\n",
    "        token_password = lines[1].strip()\n",
    "        \n",
    "\n",
    "except FileNotFoundError:\n",
    "    print(f\"The file {creds_file_path} does not exist.\")\n",
    "except IndexError:\n",
    "    print(\"The credentials file does not contain enough lines for username and password.\")\n",
    "except Exception as e:\n",
    "    print(f\"An error occurred: {e}\")"
   ]
  }
 ],
 "metadata": {
  "kernelspec": {
   "display_name": "Python 3 (ipykernel)",
   "language": "python",
   "name": "python3"
  },
  "language_info": {
   "codemirror_mode": {
    "name": "ipython",
    "version": 3
   },
   "file_extension": ".py",
   "mimetype": "text/x-python",
   "name": "python",
   "nbconvert_exporter": "python",
   "pygments_lexer": "ipython3",
   "version": "3.11.6"
  },
  "toc": {
   "base_numbering": 1,
   "nav_menu": {},
   "number_sections": true,
   "sideBar": true,
   "skip_h1_title": false,
   "title_cell": "Table of Contents",
   "title_sidebar": "Contents",
   "toc_cell": false,
   "toc_position": {},
   "toc_section_display": true,
   "toc_window_display": false
  }
 },
 "nbformat": 4,
 "nbformat_minor": 5
}
